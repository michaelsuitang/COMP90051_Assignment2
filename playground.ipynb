{
 "cells": [
  {
   "cell_type": "code",
   "execution_count": 1,
   "metadata": {},
   "outputs": [],
   "source": [
    "import torch\n",
    "from models import FcEncoder, CnnEncoder, DensenetEncoder, Decoder\n",
    "from utils import num_of_params"
   ]
  },
  {
   "cell_type": "code",
   "execution_count": 2,
   "metadata": {},
   "outputs": [
    {
     "name": "stdout",
     "output_type": "stream",
     "text": [
      "12845312\n",
      "5519120\n",
      "7216256\n"
     ]
    }
   ],
   "source": [
    "fc_encoder = FcEncoder()\n",
    "cnn_encoder = CnnEncoder()\n",
    "densenet_encoder = DensenetEncoder()\n",
    "print(num_of_params(fc_encoder))\n",
    "print(num_of_params(cnn_encoder))\n",
    "print(num_of_params(densenet_encoder))\n"
   ]
  },
  {
   "cell_type": "code",
   "execution_count": null,
   "metadata": {},
   "outputs": [
    {
     "data": {
      "text/plain": [
       "[Parameter containing:\n",
       " tensor([[ 2.9654e-03,  3.7817e-03,  3.1466e-03,  ...,  2.6271e-04,\n",
       "          -3.1943e-04, -4.3551e-03],\n",
       "         [-1.2825e-03,  3.4080e-03,  3.5732e-03,  ..., -1.3513e-03,\n",
       "           2.2347e-03, -2.4321e-03],\n",
       "         [-3.6132e-03,  3.0265e-04, -4.2604e-03,  ...,  2.0422e-05,\n",
       "          -3.7495e-03,  5.2963e-04],\n",
       "         ...,\n",
       "         [-3.5487e-03, -3.3096e-03,  2.5239e-03,  ...,  3.3567e-03,\n",
       "           8.3156e-04, -3.0851e-03],\n",
       "         [-1.7569e-03,  3.4840e-04, -2.1397e-03,  ...,  4.1648e-04,\n",
       "          -1.8280e-03,  1.5042e-03],\n",
       "         [-1.2643e-03, -5.8921e-04, -7.7070e-04,  ...,  1.3715e-03,\n",
       "          -2.1582e-03,  4.2224e-03]], requires_grad=True),\n",
       " Parameter containing:\n",
       " tensor([ 3.3719e-03, -8.7857e-04, -9.0331e-04, -4.9350e-05, -1.4173e-03,\n",
       "         -9.6480e-04, -3.4934e-03,  3.3174e-04, -1.8285e-03, -3.1820e-03,\n",
       "         -4.3264e-03,  2.7693e-03, -2.6025e-03, -1.3299e-03, -2.6506e-03,\n",
       "         -1.0315e-05,  3.2384e-03,  3.4079e-03,  1.9260e-03, -1.7214e-03,\n",
       "          1.4099e-03, -2.6887e-03,  1.0317e-03,  1.8663e-03,  3.0689e-03,\n",
       "         -1.7590e-04,  2.0803e-03, -2.5073e-03,  3.4188e-03, -2.1305e-03,\n",
       "          2.4618e-03, -2.5172e-03,  3.1679e-03, -4.8839e-04,  3.6130e-03,\n",
       "         -2.0327e-03,  3.7485e-03,  1.9412e-03,  2.8250e-03,  2.3241e-03,\n",
       "          3.0840e-03, -4.3093e-03,  2.3997e-03, -4.4234e-03, -2.9635e-03,\n",
       "          3.9608e-03,  4.4622e-03,  1.1968e-03, -3.3085e-04, -3.4508e-03,\n",
       "         -8.4629e-05,  3.4360e-03, -3.7836e-03, -1.6392e-03, -2.0725e-03,\n",
       "         -2.6285e-03,  1.6907e-04, -2.9679e-03, -8.3013e-04,  2.0691e-03,\n",
       "          3.4092e-03,  3.8034e-03, -6.1747e-04, -2.1500e-03,  3.2565e-03,\n",
       "          1.8377e-03, -1.6699e-03,  1.9621e-03, -2.0884e-04, -4.2526e-03,\n",
       "          3.6211e-03, -2.6849e-03,  4.2673e-03, -2.2498e-03,  1.8288e-03,\n",
       "          1.8062e-03,  2.4163e-03, -6.4307e-04, -3.7894e-03, -3.3741e-03,\n",
       "          2.9787e-03,  3.7176e-03, -2.1665e-03,  4.2986e-03,  2.2108e-03,\n",
       "          2.6256e-03, -1.7220e-03,  5.4663e-04, -8.4829e-04,  3.6089e-03,\n",
       "         -1.1306e-03, -1.4501e-03,  2.1123e-03,  2.6984e-03,  4.3963e-03,\n",
       "          2.9028e-03,  4.0891e-03, -2.6618e-03, -4.4329e-03, -3.6983e-03,\n",
       "         -3.3682e-03, -3.5210e-03,  2.6616e-03, -3.6874e-03,  1.5403e-03,\n",
       "         -3.7658e-03,  8.7128e-04, -4.3313e-03,  5.9370e-04, -3.1674e-03,\n",
       "          4.2454e-03,  2.4220e-03,  2.1764e-03,  2.3953e-03,  3.0740e-03,\n",
       "         -1.6472e-04,  2.2040e-03,  1.5454e-04,  3.4413e-03, -2.9203e-03,\n",
       "          2.9988e-04, -4.1720e-03, -3.0053e-03,  4.2087e-03,  2.4235e-03,\n",
       "         -6.0829e-06,  4.0815e-03,  2.0740e-03, -1.0119e-03, -7.5483e-04,\n",
       "         -2.3257e-03, -4.3251e-03,  1.0371e-03,  3.9346e-03, -2.4429e-03,\n",
       "         -3.3545e-03, -9.1766e-05,  1.7326e-03, -1.2469e-03, -2.5732e-03,\n",
       "          1.4580e-03,  1.7249e-03, -8.5727e-05, -2.4473e-03,  7.3960e-04,\n",
       "         -4.6453e-04, -3.0977e-03,  3.5315e-04,  3.2049e-03, -2.4101e-03,\n",
       "          3.6327e-03, -3.8600e-03,  3.3351e-03, -5.7005e-04, -2.7388e-04,\n",
       "          3.3620e-03,  2.5793e-03, -2.0646e-04,  1.8819e-03, -3.5658e-03,\n",
       "          3.3783e-03,  3.6717e-03,  3.3246e-04,  8.5331e-04, -2.4643e-03,\n",
       "          2.0403e-04, -3.3768e-03, -4.0407e-03,  3.6887e-03, -2.9869e-03,\n",
       "         -5.6397e-04, -4.2418e-03,  1.1157e-03,  4.2914e-03, -4.0284e-04,\n",
       "          9.4268e-04, -2.9043e-03, -4.1164e-03, -1.9897e-03,  2.6570e-03,\n",
       "          3.2891e-03,  2.5213e-03, -1.4024e-03, -9.3126e-04,  4.2476e-03,\n",
       "         -1.1758e-03, -2.2987e-03, -3.7832e-03,  3.0269e-03,  2.7488e-03,\n",
       "          3.8447e-03,  1.1362e-03, -1.2945e-03,  1.1609e-03,  3.1530e-03,\n",
       "         -9.2977e-04, -3.9429e-03,  1.1644e-03,  1.9715e-03, -2.2829e-03,\n",
       "          2.1750e-03, -2.5894e-03, -3.5424e-03, -3.5034e-03, -1.7848e-03,\n",
       "         -2.8960e-03, -1.0622e-03,  3.7843e-03,  3.6645e-03,  3.9965e-03,\n",
       "          1.0967e-03, -5.2274e-04,  1.3465e-03,  2.0401e-03, -4.3789e-04,\n",
       "         -4.4219e-04, -1.6556e-03, -1.3660e-04, -3.0732e-03, -3.7004e-03,\n",
       "          4.9428e-04,  4.6209e-04, -4.0701e-03,  3.3530e-03, -4.8479e-04,\n",
       "          2.0220e-04,  1.4687e-03,  4.1640e-03, -9.2804e-04, -6.7182e-04,\n",
       "          3.5848e-03,  3.5231e-03,  4.1178e-03,  4.2113e-03, -3.5940e-03,\n",
       "         -3.2614e-04, -2.9079e-03, -1.3440e-03, -1.6474e-03, -1.6241e-04,\n",
       "          2.2661e-03,  1.0065e-03,  1.6741e-04,  1.6667e-03,  5.2214e-04,\n",
       "         -9.8087e-04, -4.0906e-03, -2.1349e-03, -4.3693e-03, -4.3462e-03,\n",
       "         -8.5051e-04, -3.7560e-03, -2.9744e-03, -1.9760e-03,  3.6054e-03,\n",
       "          1.8698e-03], requires_grad=True)]"
      ]
     },
     "execution_count": 20,
     "metadata": {},
     "output_type": "execute_result"
    }
   ],
   "source": []
  },
  {
   "cell_type": "code",
   "execution_count": null,
   "metadata": {},
   "outputs": [
    {
     "data": {
      "text/plain": [
       "202599"
      ]
     },
     "execution_count": 10,
     "metadata": {},
     "output_type": "execute_result"
    }
   ],
   "source": [
    "import os\n",
    "max(os.listdir(\"data/img_align_celeba/img_align_celeba\"))"
   ]
  },
  {
   "cell_type": "markdown",
   "metadata": {},
   "source": [
    "Images are well-labeled, exactly from 000001 to 202599. No gaps in between"
   ]
  },
  {
   "cell_type": "code",
   "execution_count": 13,
   "metadata": {},
   "outputs": [],
   "source": [
    "import pandas as pd\n",
    "labels = pd.read_csv(\"data/list_attr_celeba.csv\", index_col=\"image_id\")"
   ]
  },
  {
   "cell_type": "code",
   "execution_count": 15,
   "metadata": {},
   "outputs": [
    {
     "data": {
      "text/plain": [
       "5_o_Clock_Shadow       int64\n",
       "Arched_Eyebrows        int64\n",
       "Attractive             int64\n",
       "Bags_Under_Eyes        int64\n",
       "Bald                   int64\n",
       "Bangs                  int64\n",
       "Big_Lips               int64\n",
       "Big_Nose               int64\n",
       "Black_Hair             int64\n",
       "Blond_Hair             int64\n",
       "Blurry                 int64\n",
       "Brown_Hair             int64\n",
       "Bushy_Eyebrows         int64\n",
       "Chubby                 int64\n",
       "Double_Chin            int64\n",
       "Eyeglasses             int64\n",
       "Goatee                 int64\n",
       "Gray_Hair              int64\n",
       "Heavy_Makeup           int64\n",
       "High_Cheekbones        int64\n",
       "Male                   int64\n",
       "Mouth_Slightly_Open    int64\n",
       "Mustache               int64\n",
       "Narrow_Eyes            int64\n",
       "No_Beard               int64\n",
       "Oval_Face              int64\n",
       "Pale_Skin              int64\n",
       "Pointy_Nose            int64\n",
       "Receding_Hairline      int64\n",
       "Rosy_Cheeks            int64\n",
       "Sideburns              int64\n",
       "Smiling                int64\n",
       "Straight_Hair          int64\n",
       "Wavy_Hair              int64\n",
       "Wearing_Earrings       int64\n",
       "Wearing_Hat            int64\n",
       "Wearing_Lipstick       int64\n",
       "Wearing_Necklace       int64\n",
       "Wearing_Necktie        int64\n",
       "Young                  int64\n",
       "dtype: object"
      ]
     },
     "execution_count": 15,
     "metadata": {},
     "output_type": "execute_result"
    }
   ],
   "source": [
    "labels.dtypes"
   ]
  },
  {
   "cell_type": "code",
   "execution_count": 16,
   "metadata": {},
   "outputs": [
    {
     "data": {
      "text/plain": [
       "10"
      ]
     },
     "execution_count": 16,
     "metadata": {},
     "output_type": "execute_result"
    }
   ],
   "source": [
    "s = pd.Series([10, 20, 30], index=['a', 'b', 'c'])\n",
    "s['a']"
   ]
  },
  {
   "cell_type": "code",
   "execution_count": null,
   "metadata": {},
   "outputs": [],
   "source": []
  }
 ],
 "metadata": {
  "kernelspec": {
   "display_name": "base",
   "language": "python",
   "name": "python3"
  },
  "language_info": {
   "codemirror_mode": {
    "name": "ipython",
    "version": 3
   },
   "file_extension": ".py",
   "mimetype": "text/x-python",
   "name": "python",
   "nbconvert_exporter": "python",
   "pygments_lexer": "ipython3",
   "version": "3.9.13"
  }
 },
 "nbformat": 4,
 "nbformat_minor": 2
}
