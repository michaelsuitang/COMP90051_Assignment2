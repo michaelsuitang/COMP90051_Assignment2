{
 "cells": [
  {
   "cell_type": "code",
   "execution_count": 1,
   "metadata": {},
   "outputs": [],
   "source": [
    "import torch\n",
    "from models import FcEncoder, CnnEncoder, DensenetEncoder, Decoder\n",
    "from utils import num_of_params"
   ]
  },
  {
   "cell_type": "code",
   "execution_count": 2,
   "metadata": {},
   "outputs": [
    {
     "name": "stdout",
     "output_type": "stream",
     "text": [
      "12845312\n",
      "5519120\n",
      "7216256\n"
     ]
    }
   ],
   "source": [
    "fc_encoder = FcEncoder()\n",
    "cnn_encoder = CnnEncoder()\n",
    "densenet_encoder = DensenetEncoder()\n",
    "print(num_of_params(fc_encoder))\n",
    "print(num_of_params(cnn_encoder))\n",
    "print(num_of_params(densenet_encoder))\n"
   ]
  },
  {
   "cell_type": "code",
   "execution_count": 10,
   "metadata": {},
   "outputs": [],
   "source": [
    "import torch\n",
    "import torch.nn as nn\n",
    "import torch.nn.functional as F\n",
    "\n",
    "class N(nn.Module):\n",
    "    def __init__(self):\n",
    "        super(N, self).__init__()\n",
    "        self.net = nn.Linear(5, 3)\n",
    "        self.net2 = nn.Linear(3, 5)\n",
    "\n",
    "    def forward(self, x):\n",
    "        return self.net2(F.relu(self.net(x)))"
   ]
  },
  {
   "cell_type": "code",
   "execution_count": 11,
   "metadata": {},
   "outputs": [],
   "source": [
    "if torch.cuda.is_available():\n",
    "    device = torch.device(\"cuda:0\")\n",
    "elif torch.backends.mps.is_available(): \n",
    "    device = torch.device(\"mps\")\n",
    "else:\n",
    "    device = torch.device(\"cpu\")\n",
    "\n",
    "x = torch.Tensor([[0,1,0,1,0], [1,2,3,4,5], [9,8,7,6,5]])\n",
    "\n",
    "encoder = N().to(device)\n",
    "optimizer = torch.optim.Adam(encoder.parameters(), lr=0.001)\n",
    "criterion = nn.MSELoss(reduction=\"sum\")\n",
    "def train(encoder, x):\n",
    "    x = x.to(device)\n",
    "    optimizer.zero_grad()\n",
    "    code = encoder(x)\n",
    "    loss = criterion(input=code, target=x) / len(x)\n",
    "\n",
    "    loss.backward()               # Backward pass (compute parameter gradients)\n",
    "    optimizer.step()              # Update weight parameter u\n",
    "\n",
    "    return loss"
   ]
  },
  {
   "cell_type": "code",
   "execution_count": 12,
   "metadata": {},
   "outputs": [
    {
     "name": "stdout",
     "output_type": "stream",
     "text": [
      "Parameter containing:\n",
      "tensor([[-0.0193,  0.0336,  0.2760,  0.1890,  0.2739],\n",
      "        [ 0.3120, -0.0334, -0.0826,  0.3450, -0.3762],\n",
      "        [-0.3210, -0.2503, -0.2984,  0.3961,  0.2285]], device='mps:0',\n",
      "       requires_grad=True)\n",
      "Parameter containing:\n",
      "tensor([-0.3722, -0.4151, -0.3475], device='mps:0', requires_grad=True)\n",
      "Parameter containing:\n",
      "tensor([[ 0.3984,  0.5422,  0.3263],\n",
      "        [-0.5589, -0.5321,  0.2227],\n",
      "        [ 0.4160, -0.0032,  0.2223],\n",
      "        [ 0.5436,  0.2981,  0.0540],\n",
      "        [ 0.2001,  0.3407,  0.2692]], device='mps:0', requires_grad=True)\n",
      "Parameter containing:\n",
      "tensor([ 0.4633, -0.3991, -0.0479,  0.4381, -0.2393], device='mps:0',\n",
      "       requires_grad=True)\n"
     ]
    }
   ],
   "source": [
    "for i in encoder.parameters():\n",
    "    print(i)"
   ]
  },
  {
   "cell_type": "code",
   "execution_count": 13,
   "metadata": {},
   "outputs": [
    {
     "name": "stdout",
     "output_type": "stream",
     "text": [
      "Parameter containing:\n",
      "tensor([[-0.0183,  0.0346,  0.2770,  0.1900,  0.2749],\n",
      "        [ 0.3110, -0.0344, -0.0836,  0.3440, -0.3772],\n",
      "        [-0.3200, -0.2493, -0.2974,  0.3971,  0.2295]], device='mps:0',\n",
      "       requires_grad=True)\n",
      "Parameter containing:\n",
      "tensor([-0.3712, -0.4161, -0.3465], device='mps:0', requires_grad=True)\n",
      "Parameter containing:\n",
      "tensor([[ 0.3994,  0.5432,  0.3253],\n",
      "        [-0.5579, -0.5311,  0.2237],\n",
      "        [ 0.4170, -0.0022,  0.2233],\n",
      "        [ 0.5446,  0.2991,  0.0550],\n",
      "        [ 0.2011,  0.3417,  0.2702]], device='mps:0', requires_grad=True)\n",
      "Parameter containing:\n",
      "tensor([ 0.4643, -0.3981, -0.0469,  0.4391, -0.2383], device='mps:0',\n",
      "       requires_grad=True)\n"
     ]
    }
   ],
   "source": [
    "train(encoder, x)\n",
    "for i in encoder.parameters():\n",
    "    print(i)"
   ]
  },
  {
   "cell_type": "markdown",
   "metadata": {},
   "source": [
    "Images are well-labeled, exactly from 000001 to 202599. No gaps in between"
   ]
  },
  {
   "cell_type": "code",
   "execution_count": 13,
   "metadata": {},
   "outputs": [],
   "source": [
    "import pandas as pd\n",
    "labels = pd.read_csv(\"data/list_attr_celeba.csv\", index_col=\"image_id\")"
   ]
  },
  {
   "cell_type": "code",
   "execution_count": 15,
   "metadata": {},
   "outputs": [
    {
     "data": {
      "text/plain": [
       "5_o_Clock_Shadow       int64\n",
       "Arched_Eyebrows        int64\n",
       "Attractive             int64\n",
       "Bags_Under_Eyes        int64\n",
       "Bald                   int64\n",
       "Bangs                  int64\n",
       "Big_Lips               int64\n",
       "Big_Nose               int64\n",
       "Black_Hair             int64\n",
       "Blond_Hair             int64\n",
       "Blurry                 int64\n",
       "Brown_Hair             int64\n",
       "Bushy_Eyebrows         int64\n",
       "Chubby                 int64\n",
       "Double_Chin            int64\n",
       "Eyeglasses             int64\n",
       "Goatee                 int64\n",
       "Gray_Hair              int64\n",
       "Heavy_Makeup           int64\n",
       "High_Cheekbones        int64\n",
       "Male                   int64\n",
       "Mouth_Slightly_Open    int64\n",
       "Mustache               int64\n",
       "Narrow_Eyes            int64\n",
       "No_Beard               int64\n",
       "Oval_Face              int64\n",
       "Pale_Skin              int64\n",
       "Pointy_Nose            int64\n",
       "Receding_Hairline      int64\n",
       "Rosy_Cheeks            int64\n",
       "Sideburns              int64\n",
       "Smiling                int64\n",
       "Straight_Hair          int64\n",
       "Wavy_Hair              int64\n",
       "Wearing_Earrings       int64\n",
       "Wearing_Hat            int64\n",
       "Wearing_Lipstick       int64\n",
       "Wearing_Necklace       int64\n",
       "Wearing_Necktie        int64\n",
       "Young                  int64\n",
       "dtype: object"
      ]
     },
     "execution_count": 15,
     "metadata": {},
     "output_type": "execute_result"
    }
   ],
   "source": [
    "labels.dtypes"
   ]
  },
  {
   "cell_type": "code",
   "execution_count": 16,
   "metadata": {},
   "outputs": [
    {
     "data": {
      "text/plain": [
       "10"
      ]
     },
     "execution_count": 16,
     "metadata": {},
     "output_type": "execute_result"
    }
   ],
   "source": [
    "s = pd.Series([10, 20, 30], index=['a', 'b', 'c'])\n",
    "s['a']"
   ]
  },
  {
   "cell_type": "code",
   "execution_count": 16,
   "metadata": {},
   "outputs": [
    {
     "data": {
      "text/plain": [
       "torch.Size([50000, 256])"
      ]
     },
     "execution_count": 16,
     "metadata": {},
     "output_type": "execute_result"
    }
   ],
   "source": [
    "file = 'data/output/FC/0/features.pt'\n",
    "tensor = torch.load(file)\n",
    "tensor.shape"
   ]
  },
  {
   "cell_type": "code",
   "execution_count": null,
   "metadata": {},
   "outputs": [],
   "source": []
  }
 ],
 "metadata": {
  "kernelspec": {
   "display_name": "base",
   "language": "python",
   "name": "python3"
  },
  "language_info": {
   "codemirror_mode": {
    "name": "ipython",
    "version": 3
   },
   "file_extension": ".py",
   "mimetype": "text/x-python",
   "name": "python",
   "nbconvert_exporter": "python",
   "pygments_lexer": "ipython3",
   "version": "3.9.13"
  }
 },
 "nbformat": 4,
 "nbformat_minor": 2
}
