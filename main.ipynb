{
  "cells": [
    {
      "cell_type": "code",
      "source": [],
      "metadata": {
        "id": "bX6GA4_9Epp9"
      },
      "execution_count": null,
      "outputs": []
    },
    {
      "cell_type": "code",
      "execution_count": 11,
      "metadata": {
        "id": "6biB3hvLEk9J"
      },
      "outputs": [],
      "source": [
        "import os\n",
        "import random\n",
        "\n",
        "import torch\n",
        "from torch.utils.data import DataLoader\n",
        "\n",
        "from models1 import FcEncoder, CnnEncoder, DensenetEncoder, Decoder, Classifier\n",
        "from preprocessing import transform, ImageDataset\n",
        "from training import train_autoencoder\n",
        "from train_fc import tune_fc_with_bootstrap\n"
      ]
    },
    {
      "cell_type": "code",
      "execution_count": 12,
      "metadata": {
        "id": "4hS7jGaAEk9M"
      },
      "outputs": [],
      "source": [
        "if torch.cuda.is_available():\n",
        "    device = torch.device(\"cuda:0\")\n",
        "elif torch.backends.mps.is_available():\n",
        "    device = torch.device(\"mps\")\n",
        "else:\n",
        "    device = torch.device(\"cpu\")\n",
        "\n",
        "random.seed(90051)\n",
        "\n",
        "# Prepare train and test datasets\n",
        "filenames = os.listdir(\"data/img_align_celeba/img_align_celeba\")\n",
        "random.shuffle(filenames)\n",
        "\n",
        "split_idx = int(0.8 * len(filenames))\n",
        "train_filenames = filenames[:split_idx]\n",
        "test_filenames  = filenames[split_idx:]\n",
        "\n",
        "BATCH_SIZE = 16\n",
        "\n",
        "train_dataset = ImageDataset(image_file_list=train_filenames, image_dir=\"data/img_align_celeba/img_align_celeba\", transform=transform)\n",
        "test_dataset = ImageDataset(image_file_list=test_filenames, image_dir=\"data/img_align_celeba/img_align_celeba\", transform=transform)\n",
        "train_dataloader = DataLoader(train_dataset, batch_size=BATCH_SIZE, shuffle=True)\n",
        "test_dataloader = DataLoader(test_dataset, batch_size=BATCH_SIZE, shuffle=False)"
      ]
    },
    {
      "cell_type": "code",
      "execution_count": 13,
      "metadata": {
        "colab": {
          "base_uri": "https://localhost:8080/",
          "height": 332
        },
        "id": "ZujhenIuEk9N",
        "outputId": "bb74588e-dbc6-42e7-c5db-29a175679145"
      },
      "outputs": [
        {
          "output_type": "stream",
          "name": "stdout",
          "text": [
            "\n",
            "[Step 1] Trying lr=0.01, betas=(0.9, 0.999)\n"
          ]
        },
        {
          "output_type": "error",
          "ename": "NameError",
          "evalue": "name 'FcEncoder' is not defined",
          "traceback": [
            "\u001b[0;31m---------------------------------------------------------------------------\u001b[0m",
            "\u001b[0;31mNameError\u001b[0m                                 Traceback (most recent call last)",
            "\u001b[0;32m/tmp/ipython-input-964152038.py\u001b[0m in \u001b[0;36m<cell line: 0>\u001b[0;34m()\u001b[0m\n\u001b[1;32m     11\u001b[0m \u001b[0;31m# Training Autoencoders\u001b[0m\u001b[0;34m\u001b[0m\u001b[0;34m\u001b[0m\u001b[0m\n\u001b[1;32m     12\u001b[0m \u001b[0;31m# TODO: k-fold cross validation on learning rate and betas.\u001b[0m\u001b[0;34m\u001b[0m\u001b[0;34m\u001b[0m\u001b[0m\n\u001b[0;32m---> 13\u001b[0;31m \u001b[0mbest_lr\u001b[0m\u001b[0;34m,\u001b[0m \u001b[0mbest_betas\u001b[0m \u001b[0;34m=\u001b[0m \u001b[0mtune_fc_with_bootstrap\u001b[0m\u001b[0;34m(\u001b[0m\u001b[0mfilenames\u001b[0m\u001b[0;34m,\u001b[0m \u001b[0mImageDataset\u001b[0m\u001b[0;34m,\u001b[0m \u001b[0mtransform\u001b[0m\u001b[0;34m,\u001b[0m \u001b[0mdevice\u001b[0m\u001b[0;34m,\u001b[0m \u001b[0mB\u001b[0m\u001b[0;34m=\u001b[0m\u001b[0;36m3\u001b[0m\u001b[0;34m)\u001b[0m\u001b[0;34m\u001b[0m\u001b[0;34m\u001b[0m\u001b[0m\n\u001b[0m",
            "\u001b[0;32m/content/train_fc.py\u001b[0m in \u001b[0;36mtune_fc_with_bootstrap\u001b[0;34m(filenames, ImageDataset, transform, device, B)\u001b[0m\n\u001b[1;32m     36\u001b[0m \u001b[0;34m\u001b[0m\u001b[0m\n\u001b[1;32m     37\u001b[0m             \u001b[0;31m# --- 定义模型 ---\u001b[0m\u001b[0;34m\u001b[0m\u001b[0;34m\u001b[0m\u001b[0m\n\u001b[0;32m---> 38\u001b[0;31m             \u001b[0mencoder\u001b[0m \u001b[0;34m=\u001b[0m \u001b[0mFcEncoder\u001b[0m\u001b[0;34m(\u001b[0m\u001b[0;34m)\u001b[0m\u001b[0;34m.\u001b[0m\u001b[0mto\u001b[0m\u001b[0;34m(\u001b[0m\u001b[0mdevice\u001b[0m\u001b[0;34m)\u001b[0m\u001b[0;34m\u001b[0m\u001b[0;34m\u001b[0m\u001b[0m\n\u001b[0m\u001b[1;32m     39\u001b[0m             \u001b[0mdecoder\u001b[0m \u001b[0;34m=\u001b[0m \u001b[0mDecoder\u001b[0m\u001b[0;34m(\u001b[0m\u001b[0;34m)\u001b[0m\u001b[0;34m.\u001b[0m\u001b[0mto\u001b[0m\u001b[0;34m(\u001b[0m\u001b[0mdevice\u001b[0m\u001b[0;34m)\u001b[0m\u001b[0;34m\u001b[0m\u001b[0;34m\u001b[0m\u001b[0m\n\u001b[1;32m     40\u001b[0m             optimizer = torch.optim.Adam(\n",
            "\u001b[0;31mNameError\u001b[0m: name 'FcEncoder' is not defined"
          ]
        }
      ],
      "source": [
        "fc_encoder = FcEncoder()\n",
        "cnn_encoder = CnnEncoder()\n",
        "densenet_encoder = DensenetEncoder()\n",
        "\n",
        "fc_decoder = Decoder()\n",
        "cnn_decoder = Decoder()\n",
        "densenet_decoder = Decoder()\n",
        "\n",
        "criterion = torch.nn.MSELoss()\n",
        "\n",
        "# Training Autoencoders\n",
        "# TODO: k-fold cross validation on learning rate and betas.\n",
        "best_lr, best_betas = tune_fc_with_bootstrap(fc_encoder, fc_decoder, train_dataloader, test_dataloader, criterion, device)\n",
        "fc_optim = torch.optim.Adam(list(fc_encoder.parameters()) + list(fc_decoder.parameters()), lr=1e-2, betas=(0.9, 0.999))\n",
        "cnn_optim = torch.optim.Adam(list(cnn_encoder.parameters()) + list(cnn_decoder.parameters()), lr=1e-2, betas=(0.9, 0.999))\n",
        "densenet_optim = torch.optim.Adam(list(densenet_encoder.parameters()) + list(densenet_decoder.parameters()), lr=1e-2, betas=(0.9, 0.999))\n"
      ]
    },
    {
      "cell_type": "code",
      "source": [
        "# Training Autoencoders\n",
        "fc_optim = torch.optim.Adam(list(fc_encoder.parameters()) + list(fc_decoder.parameters()), lr=1e-2, betas=(0.9, 0.999))\n",
        "cnn_optim = torch.optim.Adam(list(cnn_encoder.parameters()) + list(cnn_decoder.parameters()), lr=1e-2, betas=(0.9, 0.999))\n",
        "densenet_optim = torch.optim.Adam(list(densenet_encoder.parameters()) + list(densenet_decoder.parameters()), lr=1e-2, betas=(0.9, 0.999))"
      ],
      "metadata": {
        "id": "ekZ1K8IdJ-XN"
      },
      "execution_count": null,
      "outputs": []
    },
    {
      "cell_type": "code",
      "execution_count": null,
      "metadata": {
        "id": "zq8q1ddgEk9O",
        "outputId": "b4184140-09e3-4d27-bc72-49bec88e2126"
      },
      "outputs": [
        {
          "name": "stdout",
          "output_type": "stream",
          "text": [
            "1758360822.457091\n"
          ]
        }
      ],
      "source": [
        "train_autoencoder(fc_encoder, fc_decoder, train_dataloader, test_dataloader, fc_optim, criterion, device)"
      ]
    },
    {
      "cell_type": "code",
      "execution_count": null,
      "metadata": {
        "id": "-6AjwIkpEk9P",
        "outputId": "c0a2bec2-be62-4028-e7fb-3e691241dc9d"
      },
      "outputs": [
        {
          "data": {
            "text/plain": [
              "8"
            ]
          },
          "execution_count": 5,
          "metadata": {},
          "output_type": "execute_result"
        }
      ],
      "source": [
        "import torch\n",
        "import gc\n",
        "gc.collect()"
      ]
    },
    {
      "cell_type": "code",
      "execution_count": null,
      "metadata": {
        "id": "fgl-MdkcEk9Q"
      },
      "outputs": [],
      "source": []
    }
  ],
  "metadata": {
    "kernelspec": {
      "display_name": "base",
      "language": "python",
      "name": "python3"
    },
    "language_info": {
      "codemirror_mode": {
        "name": "ipython",
        "version": 3
      },
      "file_extension": ".py",
      "mimetype": "text/x-python",
      "name": "python",
      "nbconvert_exporter": "python",
      "pygments_lexer": "ipython3",
      "version": "3.9.13"
    },
    "colab": {
      "provenance": []
    }
  },
  "nbformat": 4,
  "nbformat_minor": 0
}