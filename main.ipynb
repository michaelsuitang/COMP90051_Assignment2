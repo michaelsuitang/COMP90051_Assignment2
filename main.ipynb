{
 "cells": [
  {
   "cell_type": "code",
   "execution_count": 3,
   "metadata": {},
   "outputs": [],
   "source": [
    "import os\n",
    "import random\n",
    "\n",
    "import torch\n",
    "from torch.utils.data import DataLoader\n",
    "\n",
    "from models import FcEncoder, CnnEncoder, DensenetEncoder, Decoder, Classifier\n",
    "from preprocessing import transform, ImageDataset\n",
    "from training import train_autoencoder\n"
   ]
  },
  {
   "cell_type": "code",
   "execution_count": 4,
   "metadata": {},
   "outputs": [],
   "source": [
    "if torch.cuda.is_available():\n",
    "    device = torch.device(\"cuda:0\")\n",
    "elif torch.backends.mps.is_available(): \n",
    "    device = torch.device(\"mps\")\n",
    "else:\n",
    "    device = torch.device(\"cpu\")\n",
    "\n",
    "random.seed(90051)\n",
    "\n",
    "# Prepare train and test datasets\n",
    "filenames = os.listdir(\"data/img_align_celeba/img_align_celeba\")\n",
    "random.shuffle(filenames)\n",
    "\n",
    "split_idx = int(0.8 * len(filenames))\n",
    "train_filenames = filenames[:split_idx]\n",
    "test_filenames  = filenames[split_idx:]\n",
    "\n",
    "BATCH_SIZE = 16\n",
    "\n",
    "train_dataset = ImageDataset(image_file_list=train_filenames, image_dir=\"data/img_align_celeba/img_align_celeba\", transform=transform)\n",
    "test_dataset = ImageDataset(image_file_list=test_filenames, image_dir=\"data/img_align_celeba/img_align_celeba\", transform=transform)\n",
    "train_dataloader = DataLoader(train_dataset, batch_size=BATCH_SIZE, shuffle=True)\n",
    "test_dataloader = DataLoader(test_dataset, batch_size=BATCH_SIZE, shuffle=False)"
   ]
  },
  {
   "cell_type": "code",
   "execution_count": 3,
   "metadata": {},
   "outputs": [],
   "source": [
    "fc_encoder = FcEncoder()\n",
    "cnn_encoder = CnnEncoder()\n",
    "densenet_encoder = DensenetEncoder()\n",
    "\n",
    "fc_decoder = Decoder()\n",
    "cnn_decoder = Decoder()\n",
    "densenet_decoder = Decoder()\n",
    "\n",
    "criterion = torch.nn.CrossEntropyLoss()\n",
    "\n",
    "# Training Autoencoders\n",
    "# TODO: k-fold cross validation on learning rate and betas.\n",
    "fc_optim = torch.optim.Adam(list(fc_encoder.parameters()) + list(fc_decoder.parameters()), lr=1e-2, betas=(0.9, 0.999))\n",
    "cnn_optim = torch.optim.Adam(list(cnn_encoder.parameters()) + list(cnn_decoder.parameters()), lr=1e-2, betas=(0.9, 0.999))\n",
    "densenet_optim = torch.optim.Adam(list(densenet_encoder.parameters()) + list(densenet_decoder.parameters()), lr=1e-2, betas=(0.9, 0.999))\n"
   ]
  },
  {
   "cell_type": "code",
   "execution_count": null,
   "metadata": {},
   "outputs": [
    {
     "name": "stdout",
     "output_type": "stream",
     "text": [
      "1758360822.457091\n"
     ]
    }
   ],
   "source": [
    "train_autoencoder(fc_encoder, fc_decoder, train_dataloader, test_dataloader, fc_optim, criterion, device)"
   ]
  },
  {
   "cell_type": "code",
   "execution_count": 5,
   "metadata": {},
   "outputs": [
    {
     "data": {
      "text/plain": [
       "8"
      ]
     },
     "execution_count": 5,
     "metadata": {},
     "output_type": "execute_result"
    }
   ],
   "source": [
    "import torch\n",
    "import gc\n",
    "gc.collect()"
   ]
  },
  {
   "cell_type": "code",
   "execution_count": null,
   "metadata": {},
   "outputs": [],
   "source": []
  }
 ],
 "metadata": {
  "kernelspec": {
   "display_name": "base",
   "language": "python",
   "name": "python3"
  },
  "language_info": {
   "codemirror_mode": {
    "name": "ipython",
    "version": 3
   },
   "file_extension": ".py",
   "mimetype": "text/x-python",
   "name": "python",
   "nbconvert_exporter": "python",
   "pygments_lexer": "ipython3",
   "version": "3.9.13"
  }
 },
 "nbformat": 4,
 "nbformat_minor": 2
}
